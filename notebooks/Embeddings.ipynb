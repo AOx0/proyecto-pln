{
 "cells": [
  {
   "cell_type": "code",
   "execution_count": 1,
   "id": "abbb38fb-0c94-4cb2-8366-6a760291e58e",
   "metadata": {},
   "outputs": [
    {
     "name": "stderr",
     "output_type": "stream",
     "text": [
      "[nltk_data] Downloading package stopwords to /home/ae/nltk_data...\n",
      "[nltk_data]   Package stopwords is already up-to-date!\n",
      "[nltk_data] Downloading package punkt to /home/ae/nltk_data...\n",
      "[nltk_data]   Package punkt is already up-to-date!\n",
      "[nltk_data] Downloading package wordnet to /home/ae/nltk_data...\n",
      "[nltk_data]   Package wordnet is already up-to-date!\n"
     ]
    }
   ],
   "source": [
    "import pandas as pd\n",
    "import numpy as np\n",
    "import cleaner\n",
    "import re\n",
    "import torch\n",
    "import nltk\n",
    "\n",
    "from tqdm import tqdm\n",
    "from nltk import word_tokenize\n",
    "from nltk.corpus import stopwords\n",
    "from transformers import AutoTokenizer, AutoModel\n",
    "from nltk.stem.wordnet import WordNetLemmatizer\n",
    "\n",
    "nltk.download('stopwords')\n",
    "nltk.download('punkt')\n",
    "nltk.download('wordnet')\n",
    "\n",
    "stopwords_en = stopwords.words('english')\n",
    "\n",
    "lemmatizer = WordNetLemmatizer()\n",
    "\n",
    "bert_tokenizer = AutoTokenizer.from_pretrained(\"microsoft/codebert-base\")\n",
    "bert_model = AutoModel.from_pretrained(\"microsoft/codebert-base\")\n",
    "\n",
    "tqdm.pandas()"
   ]
  },
  {
   "cell_type": "code",
   "execution_count": 2,
   "id": "43765bb2-a82a-4826-9442-684e88e5011f",
   "metadata": {},
   "outputs": [],
   "source": [
    "def clean_comments(contents, language) -> str:\n",
    "    delimiters = cleaner.lang(language)\n",
    "    \n",
    "    if delimiters is not None:\n",
    "        contents = cleaner.string(contents, *delimiters)\n",
    "        \n",
    "    return contents\n",
    "\n",
    "def clean_extras(contents) -> str:\n",
    "    contents = re.sub(r'[\\r]', '', contents)\n",
    "    contents = re.sub(r'\\w{15,}', '', contents)\n",
    "    contents = re.sub('[\\n]{2,}', '\\n', contents)\n",
    "    contents = re.sub('[\\t]{2,}', '\\t', contents)\n",
    "    contents = re.sub(r'[ ]+', ' ', contents)\n",
    "\n",
    "    contents = \"\\n\".join([line for line in contents.splitlines() if len(line.strip()) != 0])\n",
    "\n",
    "    return contents\n",
    "\n",
    "def tokenize(source: str):\n",
    "    tokens = bert_tokenizer.tokenize(source, return_tensors=\"pt\", truncation=True, max_length=512)\n",
    "    lemmas = [lemmatizer.lemmatize(token) for token in tokens if token not in stopwords_en]\n",
    "    return bert_tokenizer.convert_tokens_to_ids(lemmas)\n",
    "\n",
    "def vectorize(tokens) -> np.ndarray:\n",
    "    with torch.no_grad():\n",
    "            outputs = bert_model(torch.tensor(tokens)[None,:])\n",
    "        \n",
    "    # We use the [CLS] token's embedding as the representation of the entire code snippet\n",
    "    cls_embedding = outputs.last_hidden_state[:, 0, :].squeeze().cpu().numpy()\n",
    "\n",
    "    return cls_embedding"
   ]
  },
  {
   "cell_type": "code",
   "execution_count": 3,
   "id": "845b52fa-d0ce-43aa-851f-cef179f92f73",
   "metadata": {},
   "outputs": [],
   "source": [
    "def read_content(path, origin):\n",
    "    path = origin + \"/\" + path\n",
    "    \n",
    "    file = open(path, 'rb')\n",
    "    contents = file.read().decode(errors = \"ignore\")\n",
    "    file.close()\n",
    "    \n",
    "    return contents"
   ]
  },
  {
   "cell_type": "code",
   "execution_count": 4,
   "id": "254f6129-d971-494a-af7d-fd983041a378",
   "metadata": {},
   "outputs": [],
   "source": [
    "def split_code_into_chunks(code, max_chars):\n",
    "    lines = code.split('\\n')\n",
    "    chunks = []\n",
    "    current_chunk = []\n",
    "    current_length = 0\n",
    "    \n",
    "    for line in lines:\n",
    "        token_len = len(tokenize(line))\n",
    "        if current_length + token_len + 1 > max_chars:\n",
    "            chunks.append('\\n'.join(current_chunk))\n",
    "            current_chunk = [line]\n",
    "            current_length = token_len + 1  # +1 for the newline character\n",
    "        else:\n",
    "            current_chunk.append(line)\n",
    "            current_length += token_len + 1  # +1 for the newline character\n",
    "    \n",
    "    # Add the last chunk\n",
    "    # if current_chunk:\n",
    "        # chunks.append('\\n'.join(current_chunk))\n",
    "    \n",
    "    return chunks\n"
   ]
  },
  {
   "cell_type": "code",
   "execution_count": 5,
   "id": "015a8f1c-a74b-4b5b-a0a6-00df36080d14",
   "metadata": {},
   "outputs": [],
   "source": [
    "def gen_chunk_entries(df: pd.DataFrame, ENTRIES = 3000, MAX_CHARS = 512) -> pd.DataFrame:\n",
    "    status = {}\n",
    "    bufs = {}\n",
    "    \n",
    "    for lang in list(TARGET):\n",
    "        status[lang] = 0\n",
    "    \n",
    "    new_rows = []\n",
    "    total = 0\n",
    "\n",
    "    with tqdm(total=ENTRIES * len(TARGET), position=0, leave=True) as pbar:\n",
    "        for _, row in df.iterrows():\n",
    "            lang = row.language\n",
    "            \n",
    "            if status[lang] < ENTRIES:\n",
    "                for chunk in split_code_into_chunks(row.source, MAX_CHARS):\n",
    "                    if status[lang] < ENTRIES:\n",
    "                        new_rows.append({'language': lang, 'source': chunk})\n",
    "                        status[lang] += 1\n",
    "                        total += 1\n",
    "                        pbar.update()\n",
    "\n",
    "    tqdm._instances.clear()\n",
    "    return pd.DataFrame(new_rows)"
   ]
  },
  {
   "cell_type": "code",
   "execution_count": 6,
   "id": "00748bcc-2e84-4d1c-93a0-140baf23541b",
   "metadata": {},
   "outputs": [],
   "source": [
    "TARGET = [\n",
    "    'C', 'C#', 'C++', 'Dart', 'Elixir', 'Go', 'JSON', 'Java', \n",
    "    'Javascript', 'Julia', 'Kotlin', 'Markdown', 'Ruby', 'Rust', 'Python'\n",
    "]"
   ]
  },
  {
   "cell_type": "code",
   "execution_count": 7,
   "id": "8f3510d4-6deb-4d47-9bf9-4547d98a0a6a",
   "metadata": {},
   "outputs": [
    {
     "data": {
      "text/html": [
       "<div>\n",
       "<style scoped>\n",
       "    .dataframe tbody tr th:only-of-type {\n",
       "        vertical-align: middle;\n",
       "    }\n",
       "\n",
       "    .dataframe tbody tr th {\n",
       "        vertical-align: top;\n",
       "    }\n",
       "\n",
       "    .dataframe thead th {\n",
       "        text-align: right;\n",
       "    }\n",
       "</style>\n",
       "<table border=\"1\" class=\"dataframe\">\n",
       "  <thead>\n",
       "    <tr style=\"text-align: right;\">\n",
       "      <th></th>\n",
       "      <th>id</th>\n",
       "      <th>file_path</th>\n",
       "      <th>language</th>\n",
       "    </tr>\n",
       "  </thead>\n",
       "  <tbody>\n",
       "    <tr>\n",
       "      <th>0</th>\n",
       "      <td>1</td>\n",
       "      <td>Markdown/000001.md</td>\n",
       "      <td>Markdown</td>\n",
       "    </tr>\n",
       "    <tr>\n",
       "      <th>3</th>\n",
       "      <td>4</td>\n",
       "      <td>Markdown/000004.md</td>\n",
       "      <td>Markdown</td>\n",
       "    </tr>\n",
       "    <tr>\n",
       "      <th>4</th>\n",
       "      <td>5</td>\n",
       "      <td>Markdown/000005.md</td>\n",
       "      <td>Markdown</td>\n",
       "    </tr>\n",
       "    <tr>\n",
       "      <th>5</th>\n",
       "      <td>6</td>\n",
       "      <td>Markdown/000006.md</td>\n",
       "      <td>Markdown</td>\n",
       "    </tr>\n",
       "    <tr>\n",
       "      <th>6</th>\n",
       "      <td>7</td>\n",
       "      <td>JSON/000007.json</td>\n",
       "      <td>JSON</td>\n",
       "    </tr>\n",
       "  </tbody>\n",
       "</table>\n",
       "</div>"
      ],
      "text/plain": [
       "   id           file_path  language\n",
       "0   1  Markdown/000001.md  Markdown\n",
       "3   4  Markdown/000004.md  Markdown\n",
       "4   5  Markdown/000005.md  Markdown\n",
       "5   6  Markdown/000006.md  Markdown\n",
       "6   7    JSON/000007.json      JSON"
      ]
     },
     "execution_count": 7,
     "metadata": {},
     "output_type": "execute_result"
    }
   ],
   "source": [
    "df = pd.read_csv(\"/home/ae/repos/archivos/dataset.csv\")\n",
    "df = df[df['language'].isin(TARGET)]\n",
    "\n",
    "del df['file_size']\n",
    "del df['line_count']\n",
    "del df['extension']\n",
    "\n",
    "df.head()"
   ]
  },
  {
   "cell_type": "code",
   "execution_count": 8,
   "id": "15620422-8480-4ed0-9109-7f2a0bda2ae2",
   "metadata": {},
   "outputs": [
    {
     "name": "stderr",
     "output_type": "stream",
     "text": [
      "100%|██████████████████████████████████████████████████████████████████████████████████████████| 74851/74851 [00:07<00:00, 10056.81it/s]\n"
     ]
    },
    {
     "data": {
      "text/html": [
       "<div>\n",
       "<style scoped>\n",
       "    .dataframe tbody tr th:only-of-type {\n",
       "        vertical-align: middle;\n",
       "    }\n",
       "\n",
       "    .dataframe tbody tr th {\n",
       "        vertical-align: top;\n",
       "    }\n",
       "\n",
       "    .dataframe thead th {\n",
       "        text-align: right;\n",
       "    }\n",
       "</style>\n",
       "<table border=\"1\" class=\"dataframe\">\n",
       "  <thead>\n",
       "    <tr style=\"text-align: right;\">\n",
       "      <th></th>\n",
       "      <th>id</th>\n",
       "      <th>file_path</th>\n",
       "      <th>language</th>\n",
       "      <th>source</th>\n",
       "    </tr>\n",
       "  </thead>\n",
       "  <tbody>\n",
       "    <tr>\n",
       "      <th>0</th>\n",
       "      <td>1</td>\n",
       "      <td>Markdown/000001.md</td>\n",
       "      <td>Markdown</td>\n",
       "      <td># Contributing\\n\\n| Component            | Bui...</td>\n",
       "    </tr>\n",
       "    <tr>\n",
       "      <th>3</th>\n",
       "      <td>4</td>\n",
       "      <td>Markdown/000004.md</td>\n",
       "      <td>Markdown</td>\n",
       "      <td># Azure SDK for .NET\\n\\n[![Packages](https://i...</td>\n",
       "    </tr>\n",
       "    <tr>\n",
       "      <th>4</th>\n",
       "      <td>5</td>\n",
       "      <td>Markdown/000005.md</td>\n",
       "      <td>Markdown</td>\n",
       "      <td>&lt;!-- BEGIN MICROSOFT SECURITY.MD V0.0.5 BLOCK ...</td>\n",
       "    </tr>\n",
       "    <tr>\n",
       "      <th>5</th>\n",
       "      <td>6</td>\n",
       "      <td>Markdown/000006.md</td>\n",
       "      <td>Markdown</td>\n",
       "      <td># Support\\n\\n## How to file issues and get hel...</td>\n",
       "    </tr>\n",
       "    <tr>\n",
       "      <th>6</th>\n",
       "      <td>7</td>\n",
       "      <td>JSON/000007.json</td>\n",
       "      <td>JSON</td>\n",
       "      <td>{\\n  \"$schema\": \"https://raw.githubusercontent...</td>\n",
       "    </tr>\n",
       "  </tbody>\n",
       "</table>\n",
       "</div>"
      ],
      "text/plain": [
       "   id           file_path  language  \\\n",
       "0   1  Markdown/000001.md  Markdown   \n",
       "3   4  Markdown/000004.md  Markdown   \n",
       "4   5  Markdown/000005.md  Markdown   \n",
       "5   6  Markdown/000006.md  Markdown   \n",
       "6   7    JSON/000007.json      JSON   \n",
       "\n",
       "                                              source  \n",
       "0  # Contributing\\n\\n| Component            | Bui...  \n",
       "3  # Azure SDK for .NET\\n\\n[![Packages](https://i...  \n",
       "4  <!-- BEGIN MICROSOFT SECURITY.MD V0.0.5 BLOCK ...  \n",
       "5  # Support\\n\\n## How to file issues and get hel...  \n",
       "6  {\\n  \"$schema\": \"https://raw.githubusercontent...  "
      ]
     },
     "execution_count": 8,
     "metadata": {},
     "output_type": "execute_result"
    }
   ],
   "source": [
    "df['source'] = df['file_path'].progress_apply(lambda x: read_content(x, \"/home/ae/repos/archivos/dataset\"))\n",
    "df.head()"
   ]
  },
  {
   "cell_type": "code",
   "execution_count": 9,
   "id": "2338fe0d-0fd3-4af1-9c4a-76080474cc3a",
   "metadata": {},
   "outputs": [
    {
     "name": "stderr",
     "output_type": "stream",
     "text": [
      "100%|███████████████████████████████████████████████████████████████████████████████████████████| 74851/74851 [00:15<00:00, 4741.71it/s]\n"
     ]
    }
   ],
   "source": [
    "df['source'] = df.progress_apply(lambda r: clean_comments(r.source, r.language), axis=1)"
   ]
  },
  {
   "cell_type": "code",
   "execution_count": 10,
   "id": "dc000fb1-55df-4f6f-a91f-f6d1c2156456",
   "metadata": {},
   "outputs": [
    {
     "name": "stderr",
     "output_type": "stream",
     "text": [
      "100%|███████████████████████████████████████████████████████████████████████████████████████████| 74851/74851 [01:12<00:00, 1035.09it/s]\n"
     ]
    }
   ],
   "source": [
    "df['source'] = df['source'].progress_apply(clean_extras)"
   ]
  },
  {
   "cell_type": "code",
   "execution_count": 11,
   "id": "4e0b516f-5030-4dc0-ad33-d940f1565442",
   "metadata": {},
   "outputs": [
    {
     "name": "stderr",
     "output_type": "stream",
     "text": [
      " 94%|██████████████████████████████████████████████████████████████████████████████████████▉     | 42501/45000 [06:38<00:23, 106.77it/s]\n"
     ]
    }
   ],
   "source": [
    "df_chunk = gen_chunk_entries(df, 3000)"
   ]
  },
  {
   "cell_type": "code",
   "execution_count": 12,
   "id": "ea5d9ddb-3ead-4b32-9091-4e8cc724ef6a",
   "metadata": {},
   "outputs": [
    {
     "name": "stderr",
     "output_type": "stream",
     "text": [
      "100%|████████████████████████████████████████████████████████████████████████████████████████████| 42501/42501 [02:26<00:00, 289.81it/s]\n"
     ]
    }
   ],
   "source": [
    "df_chunk['tokens'] = df_chunk['source'].progress_apply(tokenize)"
   ]
  },
  {
   "cell_type": "code",
   "execution_count": null,
   "id": "7eb7a497-f27a-474f-b9af-2c2173f66d38",
   "metadata": {},
   "outputs": [
    {
     "name": "stderr",
     "output_type": "stream",
     "text": [
      " 36%|███████████████████████████████▎                                                        | 15101/42501 [2:47:05<43:17:55,  5.69s/it]"
     ]
    }
   ],
   "source": [
    "df_chunk['vector'] = df_chunk['tokens'].progress_apply(vectorize)"
   ]
  },
  {
   "cell_type": "code",
   "execution_count": null,
   "id": "4da6479c-66d9-43f8-98de-24a2334216ef",
   "metadata": {},
   "outputs": [],
   "source": [
    "df_chunk['language'].value_counts().plot(kind=\"bar\")"
   ]
  },
  {
   "cell_type": "code",
   "execution_count": null,
   "id": "a12b0f28-a58b-4eb1-9f3e-e97fdb267212",
   "metadata": {},
   "outputs": [],
   "source": [
    "df_chunk.to_pickle(\"bert_clean_3000x512_aprox\")"
   ]
  },
  {
   "cell_type": "code",
   "execution_count": null,
   "id": "49da6554-a407-4faf-b204-8cea938cde8e",
   "metadata": {},
   "outputs": [],
   "source": []
  }
 ],
 "metadata": {
  "kernelspec": {
   "display_name": "proyecto-pln",
   "language": "python",
   "name": "proyecto-pln"
  },
  "language_info": {
   "codemirror_mode": {
    "name": "ipython",
    "version": 3
   },
   "file_extension": ".py",
   "mimetype": "text/x-python",
   "name": "python",
   "nbconvert_exporter": "python",
   "pygments_lexer": "ipython3",
   "version": "3.12.3"
  }
 },
 "nbformat": 4,
 "nbformat_minor": 5
}
