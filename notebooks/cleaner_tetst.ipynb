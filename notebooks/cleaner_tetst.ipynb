{
 "cells": [
  {
   "cell_type": "code",
   "execution_count": 1,
   "id": "5a664689-5577-438b-b5c2-1cd99a0952d8",
   "metadata": {},
   "outputs": [],
   "source": [
    "import cleaner"
   ]
  },
  {
   "cell_type": "markdown",
   "id": "6870c5af-ee97-4720-931b-972400b959ed",
   "metadata": {},
   "source": [
    "The library provides a way to clean multiline block of comments and single line comments based on matching open/close and single line comment delimiters of any arbitrary size using the `string` function."
   ]
  },
  {
   "cell_type": "code",
   "execution_count": 2,
   "id": "80d975aa-dbff-4c7a-97b5-daffe6fb38d6",
   "metadata": {},
   "outputs": [
    {
     "name": "stdout",
     "output_type": "stream",
     "text": [
      "\n",
      "//\n",
      "int main() {\n",
      "    return 0; /**/\n",
      "}\n",
      "\n"
     ]
    }
   ],
   "source": [
    "print(cleaner.string(\"\"\"\n",
    "// This is a single line comment\n",
    "int main() {\n",
    "    return 0; /* This is it */\n",
    "}\n",
    "\"\"\", [('/*', '*/')], ['//']))"
   ]
  },
  {
   "cell_type": "code",
   "execution_count": 3,
   "id": "f009f6a7-9b66-4a3c-9042-db2d50a693bb",
   "metadata": {},
   "outputs": [
    {
     "name": "stdout",
     "output_type": "stream",
     "text": [
      "\n",
      "/#/#/#/!!/#/#/#/ Imagine that was a valid comment\n",
      "\n"
     ]
    }
   ],
   "source": [
    "print(cleaner.string(\"\"\"\n",
    "/#/#/#/!\n",
    "int main() {\n",
    "    return 0; /* This is it */\n",
    "}\n",
    "!/#/#/#/ Imagine that was a valid comment\n",
    "\"\"\", [('/#/#/#/!', '!/#/#/#/')]))"
   ]
  },
  {
   "cell_type": "markdown",
   "id": "554c291a-66d9-4463-b593-37237cb2994e",
   "metadata": {},
   "source": [
    "The library also provides the `lang` function which returns open/close and single line comment delimitors for the most relevant programming languages from the dataset, that is, from the languages that contain the most lines of code. \n",
    "\n",
    "This function returns a tuple with the *shape*:\n",
    "\n",
    "```\n",
    "(\n",
    "    [(open, close), (open2, close2), ...],\n",
    "    [single, single2, ...]\n",
    ")\n",
    "```"
   ]
  },
  {
   "cell_type": "code",
   "execution_count": 4,
   "id": "8c2a64c1-dc1a-444f-8199-44533f181114",
   "metadata": {},
   "outputs": [
    {
     "data": {
      "text/plain": [
       "([('/*', '*/')], ['//'])"
      ]
     },
     "execution_count": 4,
     "metadata": {},
     "output_type": "execute_result"
    }
   ],
   "source": [
    "c_delimiters = cleaner.lang('C')\n",
    "c_delimiters"
   ]
  },
  {
   "cell_type": "code",
   "execution_count": 5,
   "id": "f8394a35-842e-4346-a305-a454736cfe4e",
   "metadata": {},
   "outputs": [
    {
     "name": "stdout",
     "output_type": "stream",
     "text": [
      "\n",
      "//\n",
      "int main() {\n",
      "    return 0; /**/\n",
      "}\n",
      "\n"
     ]
    }
   ],
   "source": [
    "print(cleaner.string(\"\"\"\n",
    "// This is a single line comment\n",
    "int main() {\n",
    "    return 0; /* This is it */\n",
    "}\n",
    "\"\"\", *c_delimiters))"
   ]
  },
  {
   "cell_type": "code",
   "execution_count": null,
   "id": "80502306-f7c1-4d16-a1db-fe64c8e216e0",
   "metadata": {},
   "outputs": [],
   "source": []
  }
 ],
 "metadata": {
  "kernelspec": {
   "display_name": "proyecto-pln",
   "language": "python",
   "name": "proyecto-pln"
  },
  "language_info": {
   "codemirror_mode": {
    "name": "ipython",
    "version": 3
   },
   "file_extension": ".py",
   "mimetype": "text/x-python",
   "name": "python",
   "nbconvert_exporter": "python",
   "pygments_lexer": "ipython3",
   "version": "3.12.3"
  }
 },
 "nbformat": 4,
 "nbformat_minor": 5
}
